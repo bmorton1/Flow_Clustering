{
 "metadata": {
  "name": ""
 },
 "nbformat": 3,
 "nbformat_minor": 0,
 "worksheets": [
  {
   "cells": [
    {
     "cell_type": "code",
     "collapsed": false,
     "input": [
      "from pyechonest import config, track\n",
      "config.ECHO_NEST_API_KEY=\"YTHNUEZCTE3Q3HZLH\"\n",
      "\n",
      "t = track.track_from_filename(\"../../Audio/Original/02 It\\'s Tricky.mp3\", 'mp3')\n",
      "analysis = t.get_analysis()"
     ],
     "language": "python",
     "metadata": {},
     "outputs": [],
     "prompt_number": 2
    },
    {
     "cell_type": "code",
     "collapsed": false,
     "input": [
      "t.sections"
     ],
     "language": "python",
     "metadata": {},
     "outputs": [
      {
       "metadata": {},
       "output_type": "pyout",
       "prompt_number": 5,
       "text": [
        "[{u'confidence': 1.0,\n",
        "  u'duration': 7.90313,\n",
        "  u'key': 4,\n",
        "  u'key_confidence': 0.652,\n",
        "  u'loudness': -19.34,\n",
        "  u'mode': 1,\n",
        "  u'mode_confidence': 0.66,\n",
        "  u'start': 0.0,\n",
        "  u'tempo': 128.41,\n",
        "  u'tempo_confidence': 0.945,\n",
        "  u'time_signature': 4,\n",
        "  u'time_signature_confidence': 1.0},\n",
        " {u'confidence': 1.0,\n",
        "  u'duration': 30.53355,\n",
        "  u'key': 11,\n",
        "  u'key_confidence': 0.202,\n",
        "  u'loudness': -12.45,\n",
        "  u'mode': 0,\n",
        "  u'mode_confidence': 0.293,\n",
        "  u'start': 7.90313,\n",
        "  u'tempo': 127.922,\n",
        "  u'tempo_confidence': 0.849,\n",
        "  u'time_signature': 4,\n",
        "  u'time_signature_confidence': 0.673},\n",
        " {u'confidence': 0.332,\n",
        "  u'duration': 46.97155,\n",
        "  u'key': 11,\n",
        "  u'key_confidence': 0.8,\n",
        "  u'loudness': -13.065,\n",
        "  u'mode': 0,\n",
        "  u'mode_confidence': 0.498,\n",
        "  u'start': 38.43668,\n",
        "  u'tempo': 127.848,\n",
        "  u'tempo_confidence': 0.838,\n",
        "  u'time_signature': 4,\n",
        "  u'time_signature_confidence': 0.701},\n",
        " {u'confidence': 0.865,\n",
        "  u'duration': 14.55447,\n",
        "  u'key': 2,\n",
        "  u'key_confidence': 0.163,\n",
        "  u'loudness': -16.712,\n",
        "  u'mode': 1,\n",
        "  u'mode_confidence': 0.513,\n",
        "  u'start': 85.40824,\n",
        "  u'tempo': 127.821,\n",
        "  u'tempo_confidence': 0.949,\n",
        "  u'time_signature': 4,\n",
        "  u'time_signature_confidence': 1.0},\n",
        " {u'confidence': 0.556,\n",
        "  u'duration': 60.57398,\n",
        "  u'key': 11,\n",
        "  u'key_confidence': 0.087,\n",
        "  u'loudness': -13.015,\n",
        "  u'mode': 0,\n",
        "  u'mode_confidence': 0.287,\n",
        "  u'start': 99.9627,\n",
        "  u'tempo': 127.823,\n",
        "  u'tempo_confidence': 0.858,\n",
        "  u'time_signature': 4,\n",
        "  u'time_signature_confidence': 0.593},\n",
        " {u'confidence': 0.923,\n",
        "  u'duration': 22.84291,\n",
        "  u'key': 11,\n",
        "  u'key_confidence': 0.523,\n",
        "  u'loudness': -16.255,\n",
        "  u'mode': 0,\n",
        "  u'mode_confidence': 0.465,\n",
        "  u'start': 160.53668,\n",
        "  u'tempo': 127.772,\n",
        "  u'tempo_confidence': 0.887,\n",
        "  u'time_signature': 4,\n",
        "  u'time_signature_confidence': 1.0}]"
       ]
      }
     ],
     "prompt_number": 5
    },
    {
     "cell_type": "code",
     "collapsed": false,
     "input": [],
     "language": "python",
     "metadata": {},
     "outputs": []
    }
   ],
   "metadata": {}
  }
 ]
}
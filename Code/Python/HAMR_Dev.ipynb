{
 "metadata": {
  "name": ""
 },
 "nbformat": 3,
 "nbformat_minor": 0,
 "worksheets": [
  {
   "cells": [
    {
     "cell_type": "code",
     "collapsed": false,
     "input": [
      "from pyechonest import config, track\n",
      "config.ECHO_NEST_API_KEY=\"YTHNUEZCTE3Q3HZLH\"\n",
      "\n",
      "t = track.track_from_filename(\"../../Audio/Original/02 It\\'s Tricky.mp3\", 'mp3')\n",
      "analysis = t.get_analysis()"
     ],
     "language": "python",
     "metadata": {},
     "outputs": []
    },
    {
     "cell_type": "code",
     "collapsed": false,
     "input": [
      "[s['duration'] for s in t.sections]"
     ],
     "language": "python",
     "metadata": {},
     "outputs": []
    },
    {
     "cell_type": "code",
     "collapsed": false,
     "input": [],
     "language": "python",
     "metadata": {},
     "outputs": []
    },
    {
     "cell_type": "code",
     "collapsed": false,
     "input": [
      "import AudioSegmenter \n",
      "reload(AudioSegmenter)\n",
      "AudioSegmenter.segmentFile(\"../../Audio/Vocals/Vocals_02 It's Tricky.mp3\", 'Tricky', '../../Audio/Segments/')\n"
     ],
     "language": "python",
     "metadata": {},
     "outputs": [],
     "prompt_number": 1
    },
    {
     "cell_type": "code",
     "collapsed": false,
     "input": [],
     "language": "python",
     "metadata": {},
     "outputs": []
    }
   ],
   "metadata": {}
  }
 ]
}
{
 "metadata": {
  "name": ""
 },
 "nbformat": 3,
 "nbformat_minor": 0,
 "worksheets": [
  {
   "cells": [
    {
     "cell_type": "code",
     "collapsed": false,
     "input": [
      "from pyechonest import config, track\n",
      "config.ECHO_NEST_API_KEY=\"YTHNUEZCTE3Q3HZLH\"\n",
      "\n",
      "t = track.track_from_filename(\"../../Audio/Original/02 It\\'s Tricky.mp3\", 'mp3')\n",
      "analysis = t.get_analysis()"
     ],
     "language": "python",
     "metadata": {},
     "outputs": [],
     "prompt_number": 2
    },
    {
     "cell_type": "code",
     "collapsed": false,
     "input": [
      "[s['duration'] for s in t.sections]"
     ],
     "language": "python",
     "metadata": {},
     "outputs": [
      {
       "metadata": {},
       "output_type": "pyout",
       "prompt_number": 7,
       "text": [
        "[7.90313, 30.53355, 46.97155, 14.55447, 60.57398, 22.84291]"
       ]
      }
     ],
     "prompt_number": 7
    },
    {
     "cell_type": "code",
     "collapsed": false,
     "input": [],
     "language": "python",
     "metadata": {},
     "outputs": []
    }
   ],
   "metadata": {}
  }
 ]
}